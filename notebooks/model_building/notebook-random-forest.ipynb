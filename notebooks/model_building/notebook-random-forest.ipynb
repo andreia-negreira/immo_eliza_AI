{
 "cells": [
  {
   "attachments": {},
   "cell_type": "markdown",
   "metadata": {},
   "source": [
    "## Importing all the required packages"
   ]
  },
  {
   "cell_type": "code",
   "execution_count": 21,
   "metadata": {},
   "outputs": [],
   "source": [
    "import numpy as np\n",
    "import pandas as pd\n",
    "import xgboost as xg\n",
    "import matplotlib.pyplot as plt\n",
    "import seaborn as sns\n",
    "from sklearn.model_selection import train_test_split\n",
    "from sklearn.metrics import mean_squared_error as MSE\n",
    "from sklearn.ensemble import RandomForestRegressor\n",
    "from sklearn.compose import ColumnTransformer\n",
    "from sklearn.preprocessing import OneHotEncoder, MinMaxScaler\n",
    "from sklearn.pipeline import Pipeline\n",
    "from sklearn.impute import SimpleImputer"
   ]
  },
  {
   "cell_type": "code",
   "execution_count": 22,
   "metadata": {},
   "outputs": [],
   "source": [
    "# Importing the dataset\n",
    "df = pd.read_csv('/Users/andre/Documents/GitHub/immo-analysis-project/data/dataset_immo_.csv')"
   ]
  },
  {
   "attachments": {},
   "cell_type": "markdown",
   "metadata": {},
   "source": [
    "## Dataset cleaning"
   ]
  },
  {
   "cell_type": "code",
   "execution_count": 23,
   "metadata": {},
   "outputs": [],
   "source": [
    "# Renaming some columns names in order to avoid problems\n",
    "\n",
    "df.rename(columns={'swimming-pool': 'swimming_pool'}, inplace=True)\n",
    "df.rename(columns={'state-building': 'state_building'}, inplace=True)\n",
    "df.rename(columns={'land-surface': 'land_surface'}, inplace=True)"
   ]
  },
  {
   "cell_type": "code",
   "execution_count": 24,
   "metadata": {},
   "outputs": [
    {
     "data": {
      "text/plain": [
       "state_building\n",
       "GOOD              3917\n",
       "AS_NEW            2485\n",
       "TO_BE_DONE_UP     1058\n",
       "nan                924\n",
       "TO_RENOVATE        904\n",
       "JUST_RENOVATED     665\n",
       "TO_RESTORE          41\n",
       "Name: count, dtype: int64"
      ]
     },
     "execution_count": 24,
     "metadata": {},
     "output_type": "execute_result"
    }
   ],
   "source": [
    "# Removing the null values from the column state_building\n",
    "df.drop(df[df['state_building'] == \"0\"].index, inplace= True)\n",
    "# Transforming the type of the column to str\n",
    "df['state_building'] = df['state_building'].astype(str)\n",
    "# Checking if all the null values were removed\n",
    "df['state_building'].value_counts()\n",
    "\n",
    "# This step was later necessary due to the fact that null values in this column were missed\n",
    "# It has caused problems with the trained and saved model in the prediction part of the project"
   ]
  },
  {
   "cell_type": "code",
   "execution_count": 25,
   "metadata": {},
   "outputs": [],
   "source": [
    "# Removing duplicated rows\n",
    "df.duplicated()\n",
    "# Replacing NaN with 0\n",
    "df.fillna(0, inplace=True)"
   ]
  },
  {
   "cell_type": "code",
   "execution_count": 26,
   "metadata": {},
   "outputs": [],
   "source": [
    "# Removing all the rows where there's no information on locality\n",
    "df.drop(df[df['locality'] == 0].index, inplace=True)\n",
    "# Removing the columns type-transaction and url as it is not relevant\n",
    "df.drop(columns=['type-transaction'], inplace=True)\n",
    "df.drop(columns=['url'], inplace=True)\n",
    "# Removing the columns area garden and terrace\n",
    "df.drop(columns=['area_terrace'], inplace=True)\n",
    "df.drop(columns=['area-garden'], inplace=True)\n",
    "# Removing the column number of facades\n",
    "df.drop(columns=['n-facades'], inplace=True)"
   ]
  },
  {
   "attachments": {},
   "cell_type": "markdown",
   "metadata": {},
   "source": [
    "## Preprocessing the dataset for the model building"
   ]
  },
  {
   "attachments": {},
   "cell_type": "markdown",
   "metadata": {},
   "source": [
    "## Model building - Random Forest Regressor"
   ]
  },
  {
   "cell_type": "code",
   "execution_count": 27,
   "metadata": {},
   "outputs": [],
   "source": [
    "# Dropping null values before constructing the model\n",
    "df.dropna(inplace=True) "
   ]
  },
  {
   "cell_type": "code",
   "execution_count": 28,
   "metadata": {},
   "outputs": [
    {
     "data": {
      "text/plain": [
       "Index(['locality', 'Type_property', 'subtype_property', 'price', 'n_rooms',\n",
       "       'living_area', 'equipped_kitchen', 'furnished', 'fireplace', 'terrace',\n",
       "       'garden', 'land_surface', 'swimming_pool', 'state_building'],\n",
       "      dtype='object')"
      ]
     },
     "execution_count": 28,
     "metadata": {},
     "output_type": "execute_result"
    }
   ],
   "source": [
    "# Checking columns names\n",
    "df.columns"
   ]
  },
  {
   "cell_type": "code",
   "execution_count": 29,
   "metadata": {},
   "outputs": [
    {
     "name": "stdout",
     "output_type": "stream",
     "text": [
      "<class 'pandas.core.frame.DataFrame'>\n",
      "Index: 9630 entries, 0 to 10019\n",
      "Data columns (total 14 columns):\n",
      " #   Column            Non-Null Count  Dtype  \n",
      "---  ------            --------------  -----  \n",
      " 0   locality          9630 non-null   object \n",
      " 1   Type_property     9630 non-null   object \n",
      " 2   subtype_property  9630 non-null   object \n",
      " 3   price             9630 non-null   float64\n",
      " 4   n_rooms           9630 non-null   float64\n",
      " 5   living_area       9630 non-null   float64\n",
      " 6   equipped_kitchen  9630 non-null   float64\n",
      " 7   furnished         9630 non-null   float64\n",
      " 8   fireplace         9630 non-null   float64\n",
      " 9   terrace           9630 non-null   float64\n",
      " 10  garden            9630 non-null   float64\n",
      " 11  land_surface      9630 non-null   float64\n",
      " 12  swimming_pool     9630 non-null   float64\n",
      " 13  state_building    9630 non-null   object \n",
      "dtypes: float64(10), object(4)\n",
      "memory usage: 1.1+ MB\n"
     ]
    }
   ],
   "source": [
    "# Checking all the information of the dataframe\n",
    "df.info()"
   ]
  },
  {
   "cell_type": "code",
   "execution_count": 30,
   "metadata": {},
   "outputs": [
    {
     "data": {
      "text/html": [
       "<div>\n",
       "<style scoped>\n",
       "    .dataframe tbody tr th:only-of-type {\n",
       "        vertical-align: middle;\n",
       "    }\n",
       "\n",
       "    .dataframe tbody tr th {\n",
       "        vertical-align: top;\n",
       "    }\n",
       "\n",
       "    .dataframe thead th {\n",
       "        text-align: right;\n",
       "    }\n",
       "</style>\n",
       "<table border=\"1\" class=\"dataframe\">\n",
       "  <thead>\n",
       "    <tr style=\"text-align: right;\">\n",
       "      <th></th>\n",
       "      <th>locality</th>\n",
       "      <th>Type_property</th>\n",
       "      <th>subtype_property</th>\n",
       "      <th>price</th>\n",
       "      <th>n_rooms</th>\n",
       "      <th>living_area</th>\n",
       "      <th>equipped_kitchen</th>\n",
       "      <th>furnished</th>\n",
       "      <th>fireplace</th>\n",
       "      <th>terrace</th>\n",
       "      <th>garden</th>\n",
       "      <th>land_surface</th>\n",
       "      <th>swimming_pool</th>\n",
       "      <th>state_building</th>\n",
       "    </tr>\n",
       "  </thead>\n",
       "  <tbody>\n",
       "    <tr>\n",
       "      <th>0</th>\n",
       "      <td>Borgerhout</td>\n",
       "      <td>APARTMENT</td>\n",
       "      <td>APARTMENT</td>\n",
       "      <td>245000.0</td>\n",
       "      <td>2.0</td>\n",
       "      <td>106.0</td>\n",
       "      <td>1.0</td>\n",
       "      <td>0.0</td>\n",
       "      <td>1.0</td>\n",
       "      <td>1.0</td>\n",
       "      <td>0.0</td>\n",
       "      <td>0.0</td>\n",
       "      <td>0.0</td>\n",
       "      <td>JUST_RENOVATED</td>\n",
       "    </tr>\n",
       "    <tr>\n",
       "      <th>1</th>\n",
       "      <td>Leuven</td>\n",
       "      <td>APARTMENT</td>\n",
       "      <td>FLAT_STUDIO</td>\n",
       "      <td>199000.0</td>\n",
       "      <td>0.0</td>\n",
       "      <td>31.0</td>\n",
       "      <td>1.0</td>\n",
       "      <td>1.0</td>\n",
       "      <td>1.0</td>\n",
       "      <td>1.0</td>\n",
       "      <td>0.0</td>\n",
       "      <td>0.0</td>\n",
       "      <td>0.0</td>\n",
       "      <td>GOOD</td>\n",
       "    </tr>\n",
       "    <tr>\n",
       "      <th>2</th>\n",
       "      <td>Lede</td>\n",
       "      <td>APARTMENT</td>\n",
       "      <td>APARTMENT</td>\n",
       "      <td>195000.0</td>\n",
       "      <td>2.0</td>\n",
       "      <td>91.0</td>\n",
       "      <td>1.0</td>\n",
       "      <td>0.0</td>\n",
       "      <td>0.0</td>\n",
       "      <td>1.0</td>\n",
       "      <td>0.0</td>\n",
       "      <td>0.0</td>\n",
       "      <td>0.0</td>\n",
       "      <td>AS_NEW</td>\n",
       "    </tr>\n",
       "    <tr>\n",
       "      <th>3</th>\n",
       "      <td>Gent</td>\n",
       "      <td>APARTMENT</td>\n",
       "      <td>APARTMENT</td>\n",
       "      <td>185000.0</td>\n",
       "      <td>2.0</td>\n",
       "      <td>101.0</td>\n",
       "      <td>1.0</td>\n",
       "      <td>0.0</td>\n",
       "      <td>1.0</td>\n",
       "      <td>1.0</td>\n",
       "      <td>0.0</td>\n",
       "      <td>0.0</td>\n",
       "      <td>0.0</td>\n",
       "      <td>TO_RESTORE</td>\n",
       "    </tr>\n",
       "    <tr>\n",
       "      <th>4</th>\n",
       "      <td>Hotton</td>\n",
       "      <td>APARTMENT</td>\n",
       "      <td>PENTHOUSE</td>\n",
       "      <td>375000.0</td>\n",
       "      <td>3.0</td>\n",
       "      <td>214.0</td>\n",
       "      <td>1.0</td>\n",
       "      <td>0.0</td>\n",
       "      <td>0.0</td>\n",
       "      <td>0.0</td>\n",
       "      <td>0.0</td>\n",
       "      <td>0.0</td>\n",
       "      <td>0.0</td>\n",
       "      <td>TO_BE_DONE_UP</td>\n",
       "    </tr>\n",
       "  </tbody>\n",
       "</table>\n",
       "</div>"
      ],
      "text/plain": [
       "     locality Type_property subtype_property     price  n_rooms  living_area  \\\n",
       "0  Borgerhout     APARTMENT        APARTMENT  245000.0      2.0        106.0   \n",
       "1      Leuven     APARTMENT      FLAT_STUDIO  199000.0      0.0         31.0   \n",
       "2        Lede     APARTMENT        APARTMENT  195000.0      2.0         91.0   \n",
       "3        Gent     APARTMENT        APARTMENT  185000.0      2.0        101.0   \n",
       "4      Hotton     APARTMENT        PENTHOUSE  375000.0      3.0        214.0   \n",
       "\n",
       "   equipped_kitchen  furnished  fireplace  terrace  garden  land_surface  \\\n",
       "0               1.0        0.0        1.0      1.0     0.0           0.0   \n",
       "1               1.0        1.0        1.0      1.0     0.0           0.0   \n",
       "2               1.0        0.0        0.0      1.0     0.0           0.0   \n",
       "3               1.0        0.0        1.0      1.0     0.0           0.0   \n",
       "4               1.0        0.0        0.0      0.0     0.0           0.0   \n",
       "\n",
       "   swimming_pool  state_building  \n",
       "0            0.0  JUST_RENOVATED  \n",
       "1            0.0            GOOD  \n",
       "2            0.0          AS_NEW  \n",
       "3            0.0      TO_RESTORE  \n",
       "4            0.0   TO_BE_DONE_UP  "
      ]
     },
     "execution_count": 30,
     "metadata": {},
     "output_type": "execute_result"
    }
   ],
   "source": [
    "df.head()"
   ]
  },
  {
   "cell_type": "code",
   "execution_count": 31,
   "metadata": {},
   "outputs": [],
   "source": [
    "# Assigning X and y\n",
    "X = df.drop(['price'], axis=1)\n",
    "y = df['price']"
   ]
  },
  {
   "attachments": {},
   "cell_type": "markdown",
   "metadata": {},
   "source": [
    "## Pipeline Building"
   ]
  },
  {
   "cell_type": "code",
   "execution_count": 32,
   "metadata": {},
   "outputs": [],
   "source": [
    "# The first step of the pipeline is to transform the categorical values into numeric values\n",
    "# It was later decided to use OneHotEncoder instead of get_dummies as the dimension os the dataframe is not changed\n",
    "trans_1 = ColumnTransformer([('ohe_trans', \n",
    "                                  OneHotEncoder(sparse_output=False, \n",
    "                                                handle_unknown='ignore'), \n",
    "                                  [0, 1, 2, 12])], \n",
    "                                remainder='passthrough' )"
   ]
  },
  {
   "cell_type": "code",
   "execution_count": 33,
   "metadata": {},
   "outputs": [],
   "source": [
    "# The second transformation consists of normalizing the data\n",
    "trans_2 = ColumnTransformer([('scale', MinMaxScaler(),slice(0,len(X)+1))], remainder='passthrough')"
   ]
  },
  {
   "cell_type": "code",
   "execution_count": 34,
   "metadata": {},
   "outputs": [],
   "source": [
    "# The third step taked the model\n",
    "regressor = RandomForestRegressor(random_state=3)"
   ]
  },
  {
   "cell_type": "code",
   "execution_count": 35,
   "metadata": {},
   "outputs": [
    {
     "data": {
      "text/html": [
       "<style>#sk-container-id-2 {color: black;}#sk-container-id-2 pre{padding: 0;}#sk-container-id-2 div.sk-toggleable {background-color: white;}#sk-container-id-2 label.sk-toggleable__label {cursor: pointer;display: block;width: 100%;margin-bottom: 0;padding: 0.3em;box-sizing: border-box;text-align: center;}#sk-container-id-2 label.sk-toggleable__label-arrow:before {content: \"▸\";float: left;margin-right: 0.25em;color: #696969;}#sk-container-id-2 label.sk-toggleable__label-arrow:hover:before {color: black;}#sk-container-id-2 div.sk-estimator:hover label.sk-toggleable__label-arrow:before {color: black;}#sk-container-id-2 div.sk-toggleable__content {max-height: 0;max-width: 0;overflow: hidden;text-align: left;background-color: #f0f8ff;}#sk-container-id-2 div.sk-toggleable__content pre {margin: 0.2em;color: black;border-radius: 0.25em;background-color: #f0f8ff;}#sk-container-id-2 input.sk-toggleable__control:checked~div.sk-toggleable__content {max-height: 200px;max-width: 100%;overflow: auto;}#sk-container-id-2 input.sk-toggleable__control:checked~label.sk-toggleable__label-arrow:before {content: \"▾\";}#sk-container-id-2 div.sk-estimator input.sk-toggleable__control:checked~label.sk-toggleable__label {background-color: #d4ebff;}#sk-container-id-2 div.sk-label input.sk-toggleable__control:checked~label.sk-toggleable__label {background-color: #d4ebff;}#sk-container-id-2 input.sk-hidden--visually {border: 0;clip: rect(1px 1px 1px 1px);clip: rect(1px, 1px, 1px, 1px);height: 1px;margin: -1px;overflow: hidden;padding: 0;position: absolute;width: 1px;}#sk-container-id-2 div.sk-estimator {font-family: monospace;background-color: #f0f8ff;border: 1px dotted black;border-radius: 0.25em;box-sizing: border-box;margin-bottom: 0.5em;}#sk-container-id-2 div.sk-estimator:hover {background-color: #d4ebff;}#sk-container-id-2 div.sk-parallel-item::after {content: \"\";width: 100%;border-bottom: 1px solid gray;flex-grow: 1;}#sk-container-id-2 div.sk-label:hover label.sk-toggleable__label {background-color: #d4ebff;}#sk-container-id-2 div.sk-serial::before {content: \"\";position: absolute;border-left: 1px solid gray;box-sizing: border-box;top: 0;bottom: 0;left: 50%;z-index: 0;}#sk-container-id-2 div.sk-serial {display: flex;flex-direction: column;align-items: center;background-color: white;padding-right: 0.2em;padding-left: 0.2em;position: relative;}#sk-container-id-2 div.sk-item {position: relative;z-index: 1;}#sk-container-id-2 div.sk-parallel {display: flex;align-items: stretch;justify-content: center;background-color: white;position: relative;}#sk-container-id-2 div.sk-item::before, #sk-container-id-2 div.sk-parallel-item::before {content: \"\";position: absolute;border-left: 1px solid gray;box-sizing: border-box;top: 0;bottom: 0;left: 50%;z-index: -1;}#sk-container-id-2 div.sk-parallel-item {display: flex;flex-direction: column;z-index: 1;position: relative;background-color: white;}#sk-container-id-2 div.sk-parallel-item:first-child::after {align-self: flex-end;width: 50%;}#sk-container-id-2 div.sk-parallel-item:last-child::after {align-self: flex-start;width: 50%;}#sk-container-id-2 div.sk-parallel-item:only-child::after {width: 0;}#sk-container-id-2 div.sk-dashed-wrapped {border: 1px dashed gray;margin: 0 0.4em 0.5em 0.4em;box-sizing: border-box;padding-bottom: 0.4em;background-color: white;}#sk-container-id-2 div.sk-label label {font-family: monospace;font-weight: bold;display: inline-block;line-height: 1.2em;}#sk-container-id-2 div.sk-label-container {text-align: center;}#sk-container-id-2 div.sk-container {/* jupyter's `normalize.less` sets `[hidden] { display: none; }` but bootstrap.min.css set `[hidden] { display: none !important; }` so we also need the `!important` here to be able to override the default hidden behavior on the sphinx rendered scikit-learn.org. See: https://github.com/scikit-learn/scikit-learn/issues/21755 */display: inline-block !important;position: relative;}#sk-container-id-2 div.sk-text-repr-fallback {display: none;}</style><div id=\"sk-container-id-2\" class=\"sk-top-container\"><div class=\"sk-text-repr-fallback\"><pre>Pipeline(steps=[(&#x27;trans_1&#x27;,\n",
       "                 ColumnTransformer(remainder=&#x27;passthrough&#x27;,\n",
       "                                   transformers=[(&#x27;ohe_trans&#x27;,\n",
       "                                                  OneHotEncoder(handle_unknown=&#x27;ignore&#x27;,\n",
       "                                                                sparse_output=False),\n",
       "                                                  [0, 1, 2, 12])])),\n",
       "                (&#x27;trans_2&#x27;,\n",
       "                 ColumnTransformer(remainder=&#x27;passthrough&#x27;,\n",
       "                                   transformers=[(&#x27;scale&#x27;, MinMaxScaler(),\n",
       "                                                  slice(0, 9631, None))])),\n",
       "                (&#x27;regressor&#x27;, RandomForestRegressor(random_state=3))])</pre><b>In a Jupyter environment, please rerun this cell to show the HTML representation or trust the notebook. <br />On GitHub, the HTML representation is unable to render, please try loading this page with nbviewer.org.</b></div><div class=\"sk-container\" hidden><div class=\"sk-item sk-dashed-wrapped\"><div class=\"sk-label-container\"><div class=\"sk-label sk-toggleable\"><input class=\"sk-toggleable__control sk-hidden--visually\" id=\"sk-estimator-id-13\" type=\"checkbox\" ><label for=\"sk-estimator-id-13\" class=\"sk-toggleable__label sk-toggleable__label-arrow\">Pipeline</label><div class=\"sk-toggleable__content\"><pre>Pipeline(steps=[(&#x27;trans_1&#x27;,\n",
       "                 ColumnTransformer(remainder=&#x27;passthrough&#x27;,\n",
       "                                   transformers=[(&#x27;ohe_trans&#x27;,\n",
       "                                                  OneHotEncoder(handle_unknown=&#x27;ignore&#x27;,\n",
       "                                                                sparse_output=False),\n",
       "                                                  [0, 1, 2, 12])])),\n",
       "                (&#x27;trans_2&#x27;,\n",
       "                 ColumnTransformer(remainder=&#x27;passthrough&#x27;,\n",
       "                                   transformers=[(&#x27;scale&#x27;, MinMaxScaler(),\n",
       "                                                  slice(0, 9631, None))])),\n",
       "                (&#x27;regressor&#x27;, RandomForestRegressor(random_state=3))])</pre></div></div></div><div class=\"sk-serial\"><div class=\"sk-item sk-dashed-wrapped\"><div class=\"sk-label-container\"><div class=\"sk-label sk-toggleable\"><input class=\"sk-toggleable__control sk-hidden--visually\" id=\"sk-estimator-id-14\" type=\"checkbox\" ><label for=\"sk-estimator-id-14\" class=\"sk-toggleable__label sk-toggleable__label-arrow\">trans_1: ColumnTransformer</label><div class=\"sk-toggleable__content\"><pre>ColumnTransformer(remainder=&#x27;passthrough&#x27;,\n",
       "                  transformers=[(&#x27;ohe_trans&#x27;,\n",
       "                                 OneHotEncoder(handle_unknown=&#x27;ignore&#x27;,\n",
       "                                               sparse_output=False),\n",
       "                                 [0, 1, 2, 12])])</pre></div></div></div><div class=\"sk-parallel\"><div class=\"sk-parallel-item\"><div class=\"sk-item\"><div class=\"sk-label-container\"><div class=\"sk-label sk-toggleable\"><input class=\"sk-toggleable__control sk-hidden--visually\" id=\"sk-estimator-id-15\" type=\"checkbox\" ><label for=\"sk-estimator-id-15\" class=\"sk-toggleable__label sk-toggleable__label-arrow\">ohe_trans</label><div class=\"sk-toggleable__content\"><pre>[0, 1, 2, 12]</pre></div></div></div><div class=\"sk-serial\"><div class=\"sk-item\"><div class=\"sk-estimator sk-toggleable\"><input class=\"sk-toggleable__control sk-hidden--visually\" id=\"sk-estimator-id-16\" type=\"checkbox\" ><label for=\"sk-estimator-id-16\" class=\"sk-toggleable__label sk-toggleable__label-arrow\">OneHotEncoder</label><div class=\"sk-toggleable__content\"><pre>OneHotEncoder(handle_unknown=&#x27;ignore&#x27;, sparse_output=False)</pre></div></div></div></div></div></div><div class=\"sk-parallel-item\"><div class=\"sk-item\"><div class=\"sk-label-container\"><div class=\"sk-label sk-toggleable\"><input class=\"sk-toggleable__control sk-hidden--visually\" id=\"sk-estimator-id-17\" type=\"checkbox\" ><label for=\"sk-estimator-id-17\" class=\"sk-toggleable__label sk-toggleable__label-arrow\">remainder</label><div class=\"sk-toggleable__content\"><pre>[&#x27;n_rooms&#x27;, &#x27;living_area&#x27;, &#x27;equipped_kitchen&#x27;, &#x27;furnished&#x27;, &#x27;fireplace&#x27;, &#x27;terrace&#x27;, &#x27;garden&#x27;, &#x27;land_surface&#x27;, &#x27;swimming_pool&#x27;]</pre></div></div></div><div class=\"sk-serial\"><div class=\"sk-item\"><div class=\"sk-estimator sk-toggleable\"><input class=\"sk-toggleable__control sk-hidden--visually\" id=\"sk-estimator-id-18\" type=\"checkbox\" ><label for=\"sk-estimator-id-18\" class=\"sk-toggleable__label sk-toggleable__label-arrow\">passthrough</label><div class=\"sk-toggleable__content\"><pre>passthrough</pre></div></div></div></div></div></div></div></div><div class=\"sk-item sk-dashed-wrapped\"><div class=\"sk-label-container\"><div class=\"sk-label sk-toggleable\"><input class=\"sk-toggleable__control sk-hidden--visually\" id=\"sk-estimator-id-19\" type=\"checkbox\" ><label for=\"sk-estimator-id-19\" class=\"sk-toggleable__label sk-toggleable__label-arrow\">trans_2: ColumnTransformer</label><div class=\"sk-toggleable__content\"><pre>ColumnTransformer(remainder=&#x27;passthrough&#x27;,\n",
       "                  transformers=[(&#x27;scale&#x27;, MinMaxScaler(),\n",
       "                                 slice(0, 9631, None))])</pre></div></div></div><div class=\"sk-parallel\"><div class=\"sk-parallel-item\"><div class=\"sk-item\"><div class=\"sk-label-container\"><div class=\"sk-label sk-toggleable\"><input class=\"sk-toggleable__control sk-hidden--visually\" id=\"sk-estimator-id-20\" type=\"checkbox\" ><label for=\"sk-estimator-id-20\" class=\"sk-toggleable__label sk-toggleable__label-arrow\">scale</label><div class=\"sk-toggleable__content\"><pre>slice(0, 9631, None)</pre></div></div></div><div class=\"sk-serial\"><div class=\"sk-item\"><div class=\"sk-estimator sk-toggleable\"><input class=\"sk-toggleable__control sk-hidden--visually\" id=\"sk-estimator-id-21\" type=\"checkbox\" ><label for=\"sk-estimator-id-21\" class=\"sk-toggleable__label sk-toggleable__label-arrow\">MinMaxScaler</label><div class=\"sk-toggleable__content\"><pre>MinMaxScaler()</pre></div></div></div></div></div></div><div class=\"sk-parallel-item\"><div class=\"sk-item\"><div class=\"sk-label-container\"><div class=\"sk-label sk-toggleable\"><input class=\"sk-toggleable__control sk-hidden--visually\" id=\"sk-estimator-id-22\" type=\"checkbox\" ><label for=\"sk-estimator-id-22\" class=\"sk-toggleable__label sk-toggleable__label-arrow\">remainder</label><div class=\"sk-toggleable__content\"><pre>[]</pre></div></div></div><div class=\"sk-serial\"><div class=\"sk-item\"><div class=\"sk-estimator sk-toggleable\"><input class=\"sk-toggleable__control sk-hidden--visually\" id=\"sk-estimator-id-23\" type=\"checkbox\" ><label for=\"sk-estimator-id-23\" class=\"sk-toggleable__label sk-toggleable__label-arrow\">passthrough</label><div class=\"sk-toggleable__content\"><pre>passthrough</pre></div></div></div></div></div></div></div></div><div class=\"sk-item\"><div class=\"sk-estimator sk-toggleable\"><input class=\"sk-toggleable__control sk-hidden--visually\" id=\"sk-estimator-id-24\" type=\"checkbox\" ><label for=\"sk-estimator-id-24\" class=\"sk-toggleable__label sk-toggleable__label-arrow\">RandomForestRegressor</label><div class=\"sk-toggleable__content\"><pre>RandomForestRegressor(random_state=3)</pre></div></div></div></div></div></div></div>"
      ],
      "text/plain": [
       "Pipeline(steps=[('trans_1',\n",
       "                 ColumnTransformer(remainder='passthrough',\n",
       "                                   transformers=[('ohe_trans',\n",
       "                                                  OneHotEncoder(handle_unknown='ignore',\n",
       "                                                                sparse_output=False),\n",
       "                                                  [0, 1, 2, 12])])),\n",
       "                ('trans_2',\n",
       "                 ColumnTransformer(remainder='passthrough',\n",
       "                                   transformers=[('scale', MinMaxScaler(),\n",
       "                                                  slice(0, 9631, None))])),\n",
       "                ('regressor', RandomForestRegressor(random_state=3))])"
      ]
     },
     "execution_count": 35,
     "metadata": {},
     "output_type": "execute_result"
    }
   ],
   "source": [
    "# Pipeline building\n",
    "model = Pipeline(steps=[('trans_1', trans_1), ('trans_2', trans_2), ('regressor', regressor)])\n",
    "\n",
    "# Splitting the dataset\n",
    "X_train, X_test, y_train, y_test = train_test_split(X, y, test_size=0.2, random_state=42)\n",
    "\n",
    "# Instanting the model to an object and trainning it\n",
    "model.fit(X_train, y_train)"
   ]
  },
  {
   "cell_type": "code",
   "execution_count": 36,
   "metadata": {},
   "outputs": [
    {
     "name": "stdout",
     "output_type": "stream",
     "text": [
      "Training set score:  0.9633712011272862\n",
      "Training set score: 0.96\n",
      "Test set score:  0.8125463783478836\n",
      "Test set score: 0.81\n",
      "RMSE :  237833.906634\n"
     ]
    }
   ],
   "source": [
    "# Checking up the model score for the trainning set\n",
    "print('Training set score: ',model.score(X_train, y_train))\n",
    "print('Training set score: {:.2f}'.format(model.score(X_train, y_train)))\n",
    "\n",
    "# Checking up the model score for the test set\n",
    "print('Test set score: ',model.score(X_test, y_test))\n",
    "print('Test set score: {:.2f}'.format(model.score(X_test, y_test)))\n",
    "\n",
    "# Calculating the RMSE\n",
    "pred = model.predict(X_test)\n",
    "rmse = np.sqrt(MSE(y_test, pred))\n",
    "print(\"RMSE : % f\" %(rmse))"
   ]
  },
  {
   "cell_type": "code",
   "execution_count": 37,
   "metadata": {},
   "outputs": [
    {
     "name": "stdout",
     "output_type": "stream",
     "text": [
      "[2.96197561e-07 1.43705227e-04 9.52540501e-06 7.66318702e-05\n",
      " 4.63503761e-05 1.05999516e-04 9.54619163e-05 2.99754299e-05\n",
      " 4.50249226e-03 1.86186791e-05 1.72571345e-06 9.82947368e-06\n",
      " 1.50589873e-04 7.37429212e-05 1.53436783e-04 5.20933213e-04\n",
      " 3.53369438e-05 2.56145677e-04 3.27029239e-05 7.32269031e-07\n",
      " 2.61766844e-06 3.68384052e-07 1.97290242e-05 4.20542946e-05\n",
      " 1.85912624e-05 9.49141655e-06 3.56800455e-05 3.00408385e-05\n",
      " 1.99359676e-04 3.70808769e-06 4.93682184e-06 9.60289734e-06\n",
      " 1.63478246e-05 1.03243614e-04 1.76555976e-05 1.94660920e-05\n",
      " 2.03595301e-06 3.21362169e-05 5.51246547e-05 5.83144777e-05\n",
      " 1.50752499e-06 4.16586165e-06 1.00487790e-04 7.33989591e-05\n",
      " 8.69263072e-05 4.32290405e-05 8.33651090e-07 2.03479726e-05\n",
      " 6.52968039e-06 4.60118802e-04 2.54362957e-05 7.91117204e-05\n",
      " 1.42363099e-05 2.49226454e-06 7.34549919e-04 9.37710708e-05\n",
      " 1.82315363e-05 6.84361681e-06 3.37646857e-03 2.91103980e-06\n",
      " 4.73526686e-04 6.29375667e-05 3.56142112e-03 3.84662085e-04\n",
      " 2.89376134e-04 1.64414655e-04 1.50784131e-06 5.56926576e-06\n",
      " 3.26941430e-05 2.55509549e-04 1.45148511e-04 2.87257175e-06\n",
      " 5.09565995e-05 3.02046451e-05 2.74112355e-05 9.77092976e-06\n",
      " 8.84105129e-05 5.13144488e-04 3.93513990e-08 4.81948916e-07\n",
      " 4.09060813e-07 2.81193550e-05 1.02224211e-03 1.47515399e-05\n",
      " 3.92226868e-05 4.50438145e-06 3.79344217e-05 1.52361729e-05\n",
      " 4.52640349e-04 2.72850407e-06 6.69697998e-06 2.88867208e-06\n",
      " 1.43424023e-05 8.50710856e-04 2.37372571e-06 4.43821323e-06\n",
      " 2.91106689e-05 1.63896006e-05 7.31755332e-08 4.48827576e-06\n",
      " 5.41256329e-04 6.33596588e-05 1.28547936e-05 5.20599362e-05\n",
      " 3.91306642e-06 5.06707094e-05 2.00603674e-03 2.17997106e-05\n",
      " 2.97480119e-05 1.34875947e-04 1.21327938e-06 7.19754492e-05\n",
      " 3.12853560e-06 1.72397751e-05 5.50405050e-05 8.80163925e-07\n",
      " 2.19135167e-04 7.15295150e-05 7.53109903e-06 9.73701410e-04\n",
      " 2.56758172e-04 2.39084008e-04 4.76949422e-05 2.07169890e-05\n",
      " 9.23580602e-06 2.40278988e-06 3.44282620e-05 2.39664086e-05\n",
      " 6.64911722e-07 8.71512068e-06 3.92645054e-04 5.35261206e-05\n",
      " 6.76951491e-05 6.59624283e-06 4.72065682e-06 3.97826935e-06\n",
      " 6.85526779e-05 6.67738564e-05 4.86617426e-06 7.17910647e-05\n",
      " 2.18209518e-05 1.11729304e-04 2.20584147e-06 4.25286769e-06\n",
      " 7.08050097e-06 5.82123857e-05 1.55240983e-05 6.30885625e-05\n",
      " 1.17591045e-05 6.86514057e-05 1.23645165e-04 1.78727361e-03\n",
      " 2.41894203e-07 2.85462397e-06 2.31826076e-05 4.14709099e-04\n",
      " 6.11597732e-05 2.18155476e-07 7.38678936e-06 6.72219671e-04\n",
      " 1.31877417e-05 4.54929772e-06 1.71974757e-02 5.77602192e-05\n",
      " 1.47336458e-04 4.24336704e-06 2.46636379e-05 9.48711436e-06\n",
      " 5.11528081e-05 6.39912640e-06 1.06416555e-05 9.25162656e-06\n",
      " 4.90636151e-07 7.61264609e-06 6.32782752e-05 7.61947747e-02\n",
      " 1.49352893e-02 6.51405244e-02 5.63391323e-02 2.21152137e-06\n",
      " 1.30647191e-06 1.65260753e-05 4.07273403e-06 2.58541821e-04\n",
      " 1.52457925e-05 5.92490640e-03 3.44131290e-04 9.09743719e-07\n",
      " 1.95775689e-07 3.66778397e-06 2.18317748e-04 2.29758525e-03\n",
      " 8.25845543e-05 3.32445818e-06 6.06956053e-05 2.18677139e-05\n",
      " 4.75717672e-04 6.10857135e-05 4.30365055e-04 6.99852097e-06\n",
      " 3.86038760e-07 3.34250009e-06 7.45553480e-06 1.40739133e-06\n",
      " 7.31643057e-05 1.33970770e-03 3.75925395e-06 1.41028940e-05\n",
      " 6.45838791e-06 5.65821495e-05 1.82315636e-04 2.57437318e-06\n",
      " 5.14151234e-05 1.01622118e-05 7.31271931e-06 2.20868811e-05\n",
      " 8.88468691e-05 4.01166829e-05 2.35168778e-05 6.87445412e-05\n",
      " 2.68584428e-05 4.41742545e-04 1.37721407e-04 2.53614759e-05\n",
      " 1.52832272e-05 6.35797697e-06 1.31180952e-06 1.42367639e-04\n",
      " 5.84969463e-04 1.18176357e-05 5.03535326e-05 1.11200380e-06\n",
      " 8.15884923e-07 2.93337128e-06 1.96156938e-05 6.36338842e-07\n",
      " 7.05678159e-05 1.74228700e-04 3.36169050e-06 2.80219776e-05\n",
      " 2.34030880e-07 7.65537888e-05 2.08296538e-04 2.64345174e-04\n",
      " 1.78658662e-05 3.71121123e-06 1.70399929e-04 3.04681830e-05\n",
      " 6.17264881e-05 2.94264555e-04 1.16191548e-05 3.35480165e-07\n",
      " 3.64344886e-05 2.39760192e-05 2.29052559e-04 8.35578377e-07\n",
      " 4.27302109e-05 4.50743469e-04 2.59458549e-04 4.91249125e-07\n",
      " 1.33634620e-05 1.04766711e-07 1.27167918e-05 1.74594528e-04\n",
      " 3.84323250e-05 5.24712140e-05 3.75606069e-05 3.70461437e-05\n",
      " 2.17978332e-06 9.85893080e-07 4.36138095e-05 9.41049529e-05\n",
      " 7.25952340e-05 7.92503114e-07 5.11778740e-05 6.83338380e-04\n",
      " 1.14445773e-04 3.80518887e-06 9.00177005e-08 3.79686529e-05\n",
      " 6.37185080e-04 1.46977794e-06 7.87376849e-05 2.80060476e-06\n",
      " 5.88074745e-05 4.15698502e-07 3.93262430e-06 4.62362925e-04\n",
      " 2.16188365e-05 3.65111695e-05 7.30505980e-07 6.67265476e-06\n",
      " 2.39492701e-05 8.38027749e-04 6.31799694e-04 5.40309766e-07\n",
      " 1.88069110e-04 7.11470948e-06 2.00169399e-05 7.86577290e-06\n",
      " 2.33225825e-06 3.69634582e-05 6.61738296e-07 3.00673232e-05\n",
      " 5.60547104e-06 1.34758310e-06 7.02986225e-06 1.52170506e-05\n",
      " 9.48822182e-08 7.19008997e-07 1.70692761e-06 2.03479597e-04\n",
      " 1.69549171e-05 2.34818963e-07 2.36363153e-05 1.15862989e-05\n",
      " 5.23251579e-06 4.96200197e-05 3.68354132e-05 3.58499401e-06\n",
      " 1.07805336e-05 6.98272095e-06 1.76028512e-07 1.07663521e-05\n",
      " 7.33119413e-07 6.88616805e-05 2.05867504e-06 1.97460340e-06\n",
      " 3.24040266e-06 2.61570243e-04 4.54563417e-05 1.00602667e-05\n",
      " 9.73503332e-03 7.10046886e-07 1.98455833e-05 6.72338035e-07\n",
      " 1.15862909e-06 8.96067592e-06 1.70252092e-04 1.73560918e-05\n",
      " 2.95820502e-05 3.64392539e-06 1.60244567e-07 2.14338567e-06\n",
      " 2.37640001e-04 3.18386596e-03 9.29875632e-07 1.29290655e-02\n",
      " 2.14193081e-04 2.73373379e-05 4.93221808e-05 1.20617709e-05\n",
      " 7.14465942e-06 1.51514683e-06 4.66563579e-05 3.01492210e-05\n",
      " 1.41391671e-06 1.92285466e-05 9.42958290e-06 3.30381223e-05\n",
      " 2.29701127e-05 1.00370753e-03 3.54392270e-04 1.34582299e-03\n",
      " 3.27407922e-03 1.79622839e-04 1.37779717e-04 1.14614194e-05\n",
      " 5.53068925e-06 3.92806246e-05 2.33108354e-05 1.44165572e-06\n",
      " 5.79349882e-06 3.01457310e-06 2.03320321e-05 6.94062374e-07\n",
      " 1.75302339e-05 7.13574587e-05 1.04215461e-06 9.13256554e-03\n",
      " 9.04943850e-03 3.96965924e-03 1.02020710e-03 3.41836461e-05\n",
      " 5.17634132e-04 7.13377154e-05 1.36832100e-04 6.89356181e-03\n",
      " 2.86594858e-03 1.91109392e-04 4.06393802e-05 2.85333442e-04\n",
      " 7.93948565e-03 2.61711841e-07 3.27403099e-04 1.29737906e-04\n",
      " 1.19748382e-03 1.76938469e-03 3.75240687e-05 5.30241210e-03\n",
      " 9.98475871e-05 7.70318799e-05 1.17044419e-04 4.21430542e-03\n",
      " 3.45014071e-02 4.65775998e-03 3.60571134e-03 1.63640669e-03\n",
      " 2.25031034e-03 8.48611072e-05 5.31181776e-03 2.80207790e-02\n",
      " 4.70205567e-01 4.42054076e-03 2.37180388e-03 5.79414941e-03\n",
      " 5.67213056e-03 5.32365304e-03 4.18586383e-02 1.38712057e-02]\n"
     ]
    }
   ],
   "source": [
    "# Analysing feature importances values\n",
    "feature_importances = regressor.feature_importances_\n",
    "print(feature_importances)"
   ]
  },
  {
   "cell_type": "code",
   "execution_count": 38,
   "metadata": {},
   "outputs": [
    {
     "ename": "NameError",
     "evalue": "name 'x' is not defined",
     "output_type": "error",
     "traceback": [
      "\u001b[0;31m---------------------------------------------------------------------------\u001b[0m",
      "\u001b[0;31mNameError\u001b[0m                                 Traceback (most recent call last)",
      "Cell \u001b[0;32mIn[38], line 3\u001b[0m\n\u001b[1;32m      1\u001b[0m \u001b[39m# Analysing the top 20 feature importances\u001b[39;00m\n\u001b[0;32m----> 3\u001b[0m X_train \u001b[39m=\u001b[39m x\u001b[39m.\u001b[39mdrop(\u001b[39m'\u001b[39m\u001b[39mprice\u001b[39m\u001b[39m'\u001b[39m, axis\u001b[39m=\u001b[39m\u001b[39m1\u001b[39m)\n\u001b[1;32m      4\u001b[0m y_train \u001b[39m=\u001b[39m x[\u001b[39m'\u001b[39m\u001b[39mprice\u001b[39m\u001b[39m'\u001b[39m]\n\u001b[1;32m      6\u001b[0m \u001b[39m# Initialize the Random Forest Regressor\u001b[39;00m\n",
      "\u001b[0;31mNameError\u001b[0m: name 'x' is not defined"
     ]
    }
   ],
   "source": [
    "\n",
    "# Analysing the top 20 feature importances\n",
    "\n",
    "X_train = x.drop('price', axis=1)\n",
    "y_train = x['price']\n",
    "\n",
    "# Initialize the Random Forest Regressor\n",
    "model = RandomForestRegressor()\n",
    "\n",
    "# Train the model\n",
    "model.fit(X_train, y_train)\n",
    "# Getting feature importances\n",
    "feature_importances = regressor.feature_importances_\n",
    "\n",
    "# Getting the names of the features\n",
    "feature_names = X_train.columns\n",
    "\n",
    "# Creating a DataFrame to store the feature importances along with their names\n",
    "feature_importance_df = pd.DataFrame({'Feature': feature_names, 'Importance': feature_importances})\n",
    "\n",
    "# Sorting the DataFrame by importance values in descending order\n",
    "feature_importance_df = feature_importance_df.sort_values(by='Importance', ascending=False)\n",
    "\n",
    "# Creating a bar plot for feature importances\n",
    "plt.figure(figsize=(10, 12))\n",
    "sns.barplot(X='Importance', y='Feature', data=feature_importance_df.head(20), palette='viridis')\n",
    "plt.xlabel('Feature Importance')\n",
    "plt.ylabel('Feature')\n",
    "plt.title('Random Forest Regressor - Top 20 Feature Importances')\n",
    "plt.show()\n"
   ]
  }
 ],
 "metadata": {
  "kernelspec": {
   "display_name": "data-analysis-immo",
   "language": "python",
   "name": "python3"
  },
  "language_info": {
   "codemirror_mode": {
    "name": "ipython",
    "version": 3
   },
   "file_extension": ".py",
   "mimetype": "text/x-python",
   "name": "python",
   "nbconvert_exporter": "python",
   "pygments_lexer": "ipython3",
   "version": "3.11.4"
  },
  "orig_nbformat": 4
 },
 "nbformat": 4,
 "nbformat_minor": 2
}
